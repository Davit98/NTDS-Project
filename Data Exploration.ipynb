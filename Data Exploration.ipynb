{
 "cells": [
  {
   "cell_type": "code",
   "execution_count": null,
   "metadata": {},
   "outputs": [],
   "source": [
    "import pandas as pd\n",
    "import numpy as np\n",
    "import matplotlib.pyplot as plt\n",
    "from operator import itemgetter\n",
    "\n",
    "import networkx as nx\n",
    "\n",
    "from tqdm import tqdm"
   ]
  },
  {
   "cell_type": "markdown",
   "metadata": {},
   "source": [
    "Loading the adjacency matrix and the sampled data"
   ]
  },
  {
   "cell_type": "code",
   "execution_count": null,
   "metadata": {},
   "outputs": [],
   "source": [
    "adjacency_matrix = np.load('adjacency_matrix.npy')\n",
    "\n",
    "data_recipe = pd.read_json('processed_data.json').reset_index(drop=True)"
   ]
  },
  {
   "cell_type": "code",
   "execution_count": null,
   "metadata": {},
   "outputs": [],
   "source": [
    "data_recipe.head(5)"
   ]
  },
  {
   "cell_type": "markdown",
   "metadata": {},
   "source": [
    "Plotting the adjacency matrix to see sparsity pattern"
   ]
  },
  {
   "cell_type": "code",
   "execution_count": null,
   "metadata": {},
   "outputs": [],
   "source": [
    "plt.figure(figsize=(5,5))\n",
    "plt.spy(adjacency_matrix)\n",
    "plt.show()"
   ]
  },
  {
   "cell_type": "code",
   "execution_count": null,
   "metadata": {},
   "outputs": [],
   "source": [
    "def describe_graph(G):\n",
    "    \"\"\"\n",
    "    Helper function for printing various graph properties.\n",
    "    \n",
    "    Parameters\n",
    "    ----------\n",
    "    \n",
    "    G: NetworkX graph object\n",
    "        Graph\n",
    "    \"\"\"\n",
    "    print(nx.info(G))\n",
    "    if nx.is_connected(G):\n",
    "        print(\"Avg. Shortest Path Length: %.4f\" %nx.average_shortest_path_length(G))\n",
    "        print(\"Diameter: %.4f\" %nx.diameter(G)) # Longest shortest path\n",
    "    else:\n",
    "        print(\"Graph is not connected\")\n",
    "        print(\"Diameter and Avg shortest path length are not defined!\")\n",
    "        \n",
    "        # Number of connected components.\n",
    "        comp = list(nx.connected_components(G))\n",
    "        print('The graph contains', len(comp), 'connected components')\n",
    "        \n",
    "        # Largest connected components properties.\n",
    "        largest_comp = max(comp, key=len)\n",
    "        percentage_lcc = len(largest_comp)/G.number_of_nodes() * 100\n",
    "        print('The largest component has', len(largest_comp), 'nodes', 'accounting for %.2f'% percentage_lcc, '% of the nodes')\n",
    "        lcc_G = G.subgraph(largest_comp)\n",
    "        print(\"The diameter of the largest connected component is\", nx.diameter(lcc_G))\n",
    "        print(\"The avg shortest path length of the largest connected component is\", nx.average_shortest_path_length(lcc_G))\n",
    "        \n",
    "        # Smallest connected component properties.\n",
    "        smallest_comp = min(comp, key=len)\n",
    "        percentage_scc = len(smallest_comp)/G.number_of_nodes() * 100\n",
    "        print('The smallest component has', len(smallest_comp), 'nodes', 'accounting for %.2f'% percentage_scc, '% of the nodes')\n",
    "        scc_G = G.subgraph(smallest_comp)\n",
    "        print(\"The diameter of the smallest connected component is\", nx.diameter(scc_G))\n",
    "        print(\"The avg shortest path length of the smallest connected component is\", nx.average_shortest_path_length(scc_G))\n",
    "        \n",
    "    print(\"Sparsity: %.4f\" %nx.density(G))  # #edges/#edges-complete-graph\n",
    "    # #closed-triplets(3*#triangles)/#all-triplets\n",
    "    print(\"Global clustering coefficient aka Transitivity: %.4f\" %nx.transitivity(G))"
   ]
  },
  {
   "cell_type": "code",
   "execution_count": null,
   "metadata": {},
   "outputs": [],
   "source": [
    "graph = nx.from_numpy_array(adjacency_matrix)"
   ]
  },
  {
   "cell_type": "code",
   "execution_count": null,
   "metadata": {},
   "outputs": [],
   "source": [
    "# Add node attributes.\n",
    "nx.set_node_attributes(graph, data_recipe['title'].to_dict(), 'title')\n",
    "nx.set_node_attributes(graph, data_recipe['protein'].to_dict(), 'protein')\n",
    "nx.set_node_attributes(graph, data_recipe['fat'].to_dict(), 'fat')\n",
    "nx.set_node_attributes(graph, data_recipe['sodium'].to_dict(), 'sodium')\n",
    "nx.set_node_attributes(graph, data_recipe['calories'].to_dict(), 'calories')\n",
    "nx.set_node_attributes(graph, data_recipe['rating'].to_dict(), 'rating')\n",
    "nx.set_node_attributes(graph, data_recipe['ingredients'].to_dict(), 'ingredients')"
   ]
  },
  {
   "cell_type": "code",
   "execution_count": null,
   "metadata": {},
   "outputs": [],
   "source": [
    "describe_graph(graph)"
   ]
  },
  {
   "cell_type": "markdown",
   "metadata": {},
   "source": [
    "Most of the nodes are in the giant/largest component, which is often the case in a graph."
   ]
  },
  {
   "cell_type": "code",
   "execution_count": null,
   "metadata": {},
   "outputs": [],
   "source": [
    "# Which nodes/recipes contain the most common ingredients.\n",
    "degrees = dict(graph.degree(graph.nodes()))\n",
    "sorted_degree = sorted(degrees.items(), key=itemgetter(1), reverse=True)\n",
    "\n",
    "# The top 5 most connected nodes/recipes.\n",
    "for recipe, degree in sorted_degree[:5]:\n",
    "    print('Node', recipe, 'which is', graph.node[recipe]['title'], 'has common ingredients with', degree, 'recipes:', graph.node[recipe]['ingredients'], '\\n')"
   ]
  },
  {
   "cell_type": "markdown",
   "metadata": {},
   "source": [
    "We can see that that the recipes which contain the most common ingredients are:\n",
    "- Spicy Shrimp and Bell Pepper Stew with Cumin and Oregano\n",
    "- Marsala and Dried-Fig Crostata\n",
    "- Wilted Red Cabbage with Balsamic Vinegar\n",
    "- Apple Walnut Upside-Down Cake with Calvados Caramel Sauce\n",
    "- Apricot-Sour Cream Scones\n",
    "\n",
    "By looking at their ingredients one can conclude that among the most common ingredients we can name:\n",
    "- egg\n",
    "- water\n",
    "- sugar\n",
    "- butter\n",
    "- cream\n",
    "\n",
    "We can see that the most connected recipe nodes are from different categories. 3 are desserts and the other 2 are proper main dishes. This is reasonable, however, as the ingredients we mentioned above tend to be used in most types of recipes and across different categories. Hence, because these recipe nodes each has a subset of them, they ended up being hubs.\n"
   ]
  },
  {
   "cell_type": "code",
   "execution_count": null,
   "metadata": {},
   "outputs": [],
   "source": [
    "def plot_degree_distribution(G):\n",
    "    \"\"\"\n",
    "    Helper function for plotting the degree distribution of the graph.\n",
    "    \n",
    "    Parameters\n",
    "    ----------\n",
    "    \n",
    "    G: NetworkX graph object\n",
    "        Graph\n",
    "    \"\"\"\n",
    "    degrees = {}\n",
    "    for node in G.nodes():\n",
    "        degree = G.degree(node)\n",
    "        if degree not in degrees:\n",
    "            degrees[degree] = 0\n",
    "        degrees[degree] += 1\n",
    "    sorted_degree = sorted(degrees.items())\n",
    "    deg = [k for (k,v) in sorted_degree]\n",
    "    cnt = [v for (k,v) in sorted_degree]\n",
    "    fig, ax = plt.subplots(figsize=(28,10))\n",
    "    plt.bar(deg, cnt, width=0.80, color='b')\n",
    "    plt.title(\"Degree Distribution\")\n",
    "    plt.ylabel(\"Frequency\")\n",
    "    plt.xlabel(\"Degree\")\n",
    "    ax.set_xticks([d+0.05 for d in deg])\n",
    "    ax.set_xticklabels(deg)"
   ]
  },
  {
   "cell_type": "code",
   "execution_count": null,
   "metadata": {},
   "outputs": [],
   "source": [
    "plot_degree_distribution(graph)"
   ]
  },
  {
   "cell_type": "markdown",
   "metadata": {},
   "source": [
    "The degree distribution of the network seems to follow a power law. This means that most recipes are connected to the other recipes (have common ingredients), but there are a small number of \"hubs\", i.e. recipes which are connected to many other recipes because contain a large number of the most basic, common ingredients across different types of cuisines."
   ]
  },
  {
   "cell_type": "code",
   "execution_count": null,
   "metadata": {},
   "outputs": [],
   "source": [
    "# Clustering coefficient of all nodes (in a dictionary)\n",
    "clust_coefficients = nx.clustering(graph)\n",
    "\n",
    "# Average clustering coefficient\n",
    "avg_clust = sum(clust_coefficients.values()) / len(clust_coefficients)\n",
    "\n",
    "print(avg_clust)\n",
    "\n",
    "# Or use directly the built-in method\n",
    "print(nx.average_clustering(graph))"
   ]
  },
  {
   "cell_type": "code",
   "execution_count": null,
   "metadata": {},
   "outputs": [],
   "source": []
  }
 ],
 "metadata": {
  "kernelspec": {
   "display_name": "Python 3",
   "language": "python",
   "name": "python3"
  },
  "language_info": {
   "codemirror_mode": {
    "name": "ipython",
    "version": 3
   },
   "file_extension": ".py",
   "mimetype": "text/x-python",
   "name": "python",
   "nbconvert_exporter": "python",
   "pygments_lexer": "ipython3",
   "version": "3.6.9"
  }
 },
 "nbformat": 4,
 "nbformat_minor": 4
}
