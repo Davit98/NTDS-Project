{
 "cells": [
  {
   "cell_type": "code",
   "execution_count": 1,
   "metadata": {},
   "outputs": [
    {
     "name": "stderr",
     "output_type": "stream",
     "text": [
      "[nltk_data] Downloading package stopwords to\n",
      "[nltk_data]     /Users/davitmartirosyan/nltk_data...\n",
      "[nltk_data]   Package stopwords is already up-to-date!\n",
      "[nltk_data] Downloading package punkt to\n",
      "[nltk_data]     /Users/davitmartirosyan/nltk_data...\n",
      "[nltk_data]   Package punkt is already up-to-date!\n",
      "[nltk_data] Downloading package averaged_perceptron_tagger to\n",
      "[nltk_data]     /Users/davitmartirosyan/nltk_data...\n",
      "[nltk_data]   Package averaged_perceptron_tagger is already up-to-\n",
      "[nltk_data]       date!\n",
      "[nltk_data] Downloading package wordnet to\n",
      "[nltk_data]     /Users/davitmartirosyan/nltk_data...\n",
      "[nltk_data]   Package wordnet is already up-to-date!\n"
     ]
    }
   ],
   "source": [
    "import pandas as pd\n",
    "import numpy as np\n",
    "import matplotlib.pyplot as plt\n",
    "import spacy, nltk, gensim\n",
    "from nltk.stem import WordNetLemmatizer\n",
    "nltk.download('stopwords')\n",
    "nltk.download('punkt')\n",
    "nltk.download('averaged_perceptron_tagger')\n",
    "nltk.download('wordnet')\n",
    "\n",
    "from nltk.tokenize import sent_tokenize, word_tokenize\n",
    "from nltk.corpus import stopwords\n",
    "\n",
    "from tqdm import tqdm"
   ]
  },
  {
   "cell_type": "markdown",
   "metadata": {},
   "source": [
    "Reading the data"
   ]
  },
  {
   "cell_type": "code",
   "execution_count": 2,
   "metadata": {},
   "outputs": [],
   "source": [
    "data_recipe = pd.read_json('data/full_format_recipes.json')"
   ]
  },
  {
   "cell_type": "code",
   "execution_count": 3,
   "metadata": {},
   "outputs": [
    {
     "data": {
      "text/html": [
       "<div>\n",
       "<style scoped>\n",
       "    .dataframe tbody tr th:only-of-type {\n",
       "        vertical-align: middle;\n",
       "    }\n",
       "\n",
       "    .dataframe tbody tr th {\n",
       "        vertical-align: top;\n",
       "    }\n",
       "\n",
       "    .dataframe thead th {\n",
       "        text-align: right;\n",
       "    }\n",
       "</style>\n",
       "<table border=\"1\" class=\"dataframe\">\n",
       "  <thead>\n",
       "    <tr style=\"text-align: right;\">\n",
       "      <th></th>\n",
       "      <th>directions</th>\n",
       "      <th>fat</th>\n",
       "      <th>date</th>\n",
       "      <th>categories</th>\n",
       "      <th>calories</th>\n",
       "      <th>desc</th>\n",
       "      <th>protein</th>\n",
       "      <th>rating</th>\n",
       "      <th>title</th>\n",
       "      <th>ingredients</th>\n",
       "      <th>sodium</th>\n",
       "    </tr>\n",
       "  </thead>\n",
       "  <tbody>\n",
       "    <tr>\n",
       "      <td>0</td>\n",
       "      <td>[1. Place the stock, lentils, celery, carrot, ...</td>\n",
       "      <td>7.0</td>\n",
       "      <td>2006-09-01 04:00:00+00:00</td>\n",
       "      <td>[Sandwich, Bean, Fruit, Tomato, turkey, Vegeta...</td>\n",
       "      <td>426.0</td>\n",
       "      <td>None</td>\n",
       "      <td>30.0</td>\n",
       "      <td>2.500</td>\n",
       "      <td>Lentil, Apple, and Turkey Wrap</td>\n",
       "      <td>[4 cups low-sodium vegetable or chicken stock,...</td>\n",
       "      <td>559.0</td>\n",
       "    </tr>\n",
       "    <tr>\n",
       "      <td>1</td>\n",
       "      <td>[Combine first 9 ingredients in heavy medium s...</td>\n",
       "      <td>23.0</td>\n",
       "      <td>2004-08-20 04:00:00+00:00</td>\n",
       "      <td>[Food Processor, Onion, Pork, Bake, Bastille D...</td>\n",
       "      <td>403.0</td>\n",
       "      <td>This uses the same ingredients found in boudin...</td>\n",
       "      <td>18.0</td>\n",
       "      <td>4.375</td>\n",
       "      <td>Boudin Blanc Terrine with Red Onion Confit</td>\n",
       "      <td>[1 1/2 cups whipping cream, 2 medium onions, c...</td>\n",
       "      <td>1439.0</td>\n",
       "    </tr>\n",
       "    <tr>\n",
       "      <td>2</td>\n",
       "      <td>[In a large heavy saucepan cook diced fennel a...</td>\n",
       "      <td>7.0</td>\n",
       "      <td>2004-08-20 04:00:00+00:00</td>\n",
       "      <td>[Soup/Stew, Dairy, Potato, Vegetable, Fennel, ...</td>\n",
       "      <td>165.0</td>\n",
       "      <td>None</td>\n",
       "      <td>6.0</td>\n",
       "      <td>3.750</td>\n",
       "      <td>Potato and Fennel Soup Hodge</td>\n",
       "      <td>[1 fennel bulb (sometimes called anise), stalk...</td>\n",
       "      <td>165.0</td>\n",
       "    </tr>\n",
       "    <tr>\n",
       "      <td>3</td>\n",
       "      <td>[Heat oil in heavy large skillet over medium-h...</td>\n",
       "      <td>NaN</td>\n",
       "      <td>2009-03-27 04:00:00+00:00</td>\n",
       "      <td>[Fish, Olive, Tomato, Sauté, Low Fat, Low Cal,...</td>\n",
       "      <td>NaN</td>\n",
       "      <td>The Sicilian-style tomato sauce has tons of Me...</td>\n",
       "      <td>NaN</td>\n",
       "      <td>5.000</td>\n",
       "      <td>Mahi-Mahi in Tomato Olive Sauce</td>\n",
       "      <td>[2 tablespoons extra-virgin olive oil, 1 cup c...</td>\n",
       "      <td>NaN</td>\n",
       "    </tr>\n",
       "    <tr>\n",
       "      <td>4</td>\n",
       "      <td>[Preheat oven to 350°F. Lightly grease 8x8x2-i...</td>\n",
       "      <td>32.0</td>\n",
       "      <td>2004-08-20 04:00:00+00:00</td>\n",
       "      <td>[Cheese, Dairy, Pasta, Vegetable, Side, Bake, ...</td>\n",
       "      <td>547.0</td>\n",
       "      <td>None</td>\n",
       "      <td>20.0</td>\n",
       "      <td>3.125</td>\n",
       "      <td>Spinach Noodle Casserole</td>\n",
       "      <td>[1 12-ounce package frozen spinach soufflé, th...</td>\n",
       "      <td>452.0</td>\n",
       "    </tr>\n",
       "  </tbody>\n",
       "</table>\n",
       "</div>"
      ],
      "text/plain": [
       "                                          directions   fat  \\\n",
       "0  [1. Place the stock, lentils, celery, carrot, ...   7.0   \n",
       "1  [Combine first 9 ingredients in heavy medium s...  23.0   \n",
       "2  [In a large heavy saucepan cook diced fennel a...   7.0   \n",
       "3  [Heat oil in heavy large skillet over medium-h...   NaN   \n",
       "4  [Preheat oven to 350°F. Lightly grease 8x8x2-i...  32.0   \n",
       "\n",
       "                       date  \\\n",
       "0 2006-09-01 04:00:00+00:00   \n",
       "1 2004-08-20 04:00:00+00:00   \n",
       "2 2004-08-20 04:00:00+00:00   \n",
       "3 2009-03-27 04:00:00+00:00   \n",
       "4 2004-08-20 04:00:00+00:00   \n",
       "\n",
       "                                          categories  calories  \\\n",
       "0  [Sandwich, Bean, Fruit, Tomato, turkey, Vegeta...     426.0   \n",
       "1  [Food Processor, Onion, Pork, Bake, Bastille D...     403.0   \n",
       "2  [Soup/Stew, Dairy, Potato, Vegetable, Fennel, ...     165.0   \n",
       "3  [Fish, Olive, Tomato, Sauté, Low Fat, Low Cal,...       NaN   \n",
       "4  [Cheese, Dairy, Pasta, Vegetable, Side, Bake, ...     547.0   \n",
       "\n",
       "                                                desc  protein  rating  \\\n",
       "0                                               None     30.0   2.500   \n",
       "1  This uses the same ingredients found in boudin...     18.0   4.375   \n",
       "2                                               None      6.0   3.750   \n",
       "3  The Sicilian-style tomato sauce has tons of Me...      NaN   5.000   \n",
       "4                                               None     20.0   3.125   \n",
       "\n",
       "                                         title  \\\n",
       "0              Lentil, Apple, and Turkey Wrap    \n",
       "1  Boudin Blanc Terrine with Red Onion Confit    \n",
       "2                Potato and Fennel Soup Hodge    \n",
       "3             Mahi-Mahi in Tomato Olive Sauce    \n",
       "4                    Spinach Noodle Casserole    \n",
       "\n",
       "                                         ingredients  sodium  \n",
       "0  [4 cups low-sodium vegetable or chicken stock,...   559.0  \n",
       "1  [1 1/2 cups whipping cream, 2 medium onions, c...  1439.0  \n",
       "2  [1 fennel bulb (sometimes called anise), stalk...   165.0  \n",
       "3  [2 tablespoons extra-virgin olive oil, 1 cup c...     NaN  \n",
       "4  [1 12-ounce package frozen spinach soufflé, th...   452.0  "
      ]
     },
     "execution_count": 3,
     "metadata": {},
     "output_type": "execute_result"
    }
   ],
   "source": [
    "data_recipe.head()"
   ]
  },
  {
   "cell_type": "code",
   "execution_count": 4,
   "metadata": {},
   "outputs": [
    {
     "data": {
      "text/plain": [
       "(20130, 11)"
      ]
     },
     "execution_count": 4,
     "metadata": {},
     "output_type": "execute_result"
    }
   ],
   "source": [
    "data_recipe.shape"
   ]
  },
  {
   "cell_type": "code",
   "execution_count": 5,
   "metadata": {},
   "outputs": [
    {
     "name": "stdout",
     "output_type": "stream",
     "text": [
      "<class 'pandas.core.frame.DataFrame'>\n",
      "RangeIndex: 20130 entries, 0 to 20129\n",
      "Data columns (total 11 columns):\n",
      "directions     20111 non-null object\n",
      "fat            15908 non-null float64\n",
      "date           20111 non-null datetime64[ns, UTC]\n",
      "categories     20111 non-null object\n",
      "calories       15976 non-null float64\n",
      "desc           13495 non-null object\n",
      "protein        15929 non-null float64\n",
      "rating         20100 non-null float64\n",
      "title          20111 non-null object\n",
      "ingredients    20111 non-null object\n",
      "sodium         15974 non-null float64\n",
      "dtypes: datetime64[ns, UTC](1), float64(5), object(5)\n",
      "memory usage: 1.7+ MB\n"
     ]
    }
   ],
   "source": [
    "data_recipe.info()"
   ]
  },
  {
   "cell_type": "markdown",
   "metadata": {},
   "source": [
    "Let's drop the column 'desc', since we are not going to use it"
   ]
  },
  {
   "cell_type": "code",
   "execution_count": 6,
   "metadata": {},
   "outputs": [],
   "source": [
    "data_recipe = data_recipe.drop('desc',axis=1)"
   ]
  },
  {
   "cell_type": "markdown",
   "metadata": {},
   "source": [
    "Let's also remove the rows where the column 'rating' has value 0"
   ]
  },
  {
   "cell_type": "code",
   "execution_count": 7,
   "metadata": {},
   "outputs": [],
   "source": [
    "data_recipe = data_recipe[data_recipe.rating>0]"
   ]
  },
  {
   "cell_type": "markdown",
   "metadata": {},
   "source": [
    "Checking the number of null values for each column"
   ]
  },
  {
   "cell_type": "code",
   "execution_count": 8,
   "metadata": {},
   "outputs": [
    {
     "data": {
      "text/plain": [
       "directions        0\n",
       "fat            3657\n",
       "date              0\n",
       "categories        0\n",
       "calories       3624\n",
       "protein        3648\n",
       "rating            0\n",
       "title             0\n",
       "ingredients       0\n",
       "sodium         3626\n",
       "dtype: int64"
      ]
     },
     "execution_count": 8,
     "metadata": {},
     "output_type": "execute_result"
    }
   ],
   "source": [
    "data_recipe.isnull().sum()"
   ]
  },
  {
   "cell_type": "markdown",
   "metadata": {},
   "source": [
    "Let's drop all rows with at least one missing value"
   ]
  },
  {
   "cell_type": "code",
   "execution_count": 9,
   "metadata": {},
   "outputs": [],
   "source": [
    "data_recipe = data_recipe.dropna()"
   ]
  },
  {
   "cell_type": "markdown",
   "metadata": {},
   "source": [
    "Let's drop also duplicate recipes"
   ]
  },
  {
   "cell_type": "code",
   "execution_count": 10,
   "metadata": {},
   "outputs": [],
   "source": [
    "# removing possible whitespaces on both ends\n",
    "data_recipe.title = data_recipe.title.apply(lambda x: x.strip())\n",
    "\n",
    "data_recipe = data_recipe.drop_duplicates(subset='title')"
   ]
  },
  {
   "cell_type": "markdown",
   "metadata": {},
   "source": [
    "We are left with 13001 rows"
   ]
  },
  {
   "cell_type": "code",
   "execution_count": 11,
   "metadata": {},
   "outputs": [
    {
     "data": {
      "text/plain": [
       "(13001, 10)"
      ]
     },
     "execution_count": 11,
     "metadata": {},
     "output_type": "execute_result"
    }
   ],
   "source": [
    "data_recipe.shape"
   ]
  },
  {
   "cell_type": "markdown",
   "metadata": {},
   "source": [
    "Now, let's have a look at the distributions of the following features in our data: calories, sodium, protein and fat."
   ]
  },
  {
   "cell_type": "code",
   "execution_count": 12,
   "metadata": {},
   "outputs": [
    {
     "data": {
      "image/png": "[encoded data removed]",
      "text/plain": [
       "<Figure size 1080x504 with 1 Axes>"
      ]
     },
     "metadata": {
      "needs_background": "light"
     },
     "output_type": "display_data"
    }
   ],
   "source": [
    "plt.figure(figsize=(15,7))\n",
    "boxplot = data_recipe.boxplot(column=['calories', 'sodium', 'protein', 'fat']);\n",
    "boxplot.set_title('Boxplot for calories, sodium, protein and fat')\n",
    "boxplot.set_ylabel('Value')\n",
    "boxplot.set_xlabel('Feature')\n",
    "boxplot.set_yscale('log')"
   ]
  },
  {
   "cell_type": "markdown",
   "metadata": {},
   "source": [
    "As we can see from the plot shown above, there are outliers some of which are abnormal values (e.g. calorie values of more than 10^7). Let's remove those values."
   ]
  },
  {
   "cell_type": "code",
   "execution_count": 13,
   "metadata": {},
   "outputs": [],
   "source": [
    "data_recipe = data_recipe[data_recipe.calories<2000] \n",
    "\n",
    "data_recipe = data_recipe[data_recipe.sodium<3000]\n",
    "\n",
    "data_recipe = data_recipe[data_recipe.protein<200]\n",
    "\n",
    "data_recipe = data_recipe[data_recipe.fat<300]\n",
    "\n",
    "# The threshold for each column is chosen based on the boxplot and the knowledge about reasonable ranges \n",
    "# for each nutritional fact\n",
    "\n",
    "# resetting index\n",
    "data_recipe = data_recipe.reset_index(drop=True)"
   ]
  },
  {
   "cell_type": "markdown",
   "metadata": {},
   "source": [
    "Finally, we are left with 12466 rows."
   ]
  },
  {
   "cell_type": "code",
   "execution_count": 14,
   "metadata": {},
   "outputs": [
    {
     "data": {
      "text/plain": [
       "(12466, 10)"
      ]
     },
     "execution_count": 14,
     "metadata": {},
     "output_type": "execute_result"
    }
   ],
   "source": [
    "data_recipe.shape"
   ]
  },
  {
   "cell_type": "markdown",
   "metadata": {},
   "source": [
    "An example of a recipe"
   ]
  },
  {
   "cell_type": "code",
   "execution_count": 15,
   "metadata": {},
   "outputs": [
    {
     "data": {
      "text/plain": [
       "['4 cups low-sodium vegetable or chicken stock',\n",
       " '1 cup dried brown lentils',\n",
       " '1/2 cup dried French green lentils',\n",
       " '2 stalks celery, chopped',\n",
       " '1 large carrot, peeled and chopped',\n",
       " '1 sprig fresh thyme',\n",
       " '1 teaspoon kosher salt',\n",
       " '1 medium tomato, cored, seeded, and diced',\n",
       " '1 small Fuji apple, cored and diced',\n",
       " '1 tablespoon freshly squeezed lemon juice',\n",
       " '2 teaspoons extra-virgin olive oil',\n",
       " 'Freshly ground black pepper to taste',\n",
       " '3 sheets whole-wheat lavash, cut in half crosswise, or 6 (12-inch) flour tortillas',\n",
       " '3/4 pound turkey breast, thinly sliced',\n",
       " '1/2 head Bibb lettuce']"
      ]
     },
     "execution_count": 15,
     "metadata": {},
     "output_type": "execute_result"
    }
   ],
   "source": [
    "data_recipe.iloc[0]['ingredients']"
   ]
  },
  {
   "cell_type": "markdown",
   "metadata": {},
   "source": [
    "Second example of a recipe"
   ]
  },
  {
   "cell_type": "code",
   "execution_count": 16,
   "metadata": {},
   "outputs": [
    {
     "data": {
      "text/plain": [
       "['1 1/2 cups whipping cream',\n",
       " '2 medium onions, chopped',\n",
       " '5 teaspoons salt',\n",
       " '3 bay leaves',\n",
       " '3 whole cloves',\n",
       " '1 large garlic clove, crushed',\n",
       " '1 teaspoon pepper',\n",
       " '1/8 teaspoon ground nutmeg',\n",
       " 'Pinch of dried thyme, crumbled',\n",
       " '8 large shallots, minced',\n",
       " '1 tablespoon butter',\n",
       " '1 pound trimmed boneless center pork loin, sinew removed cut into 1-inch chunks, well chilled',\n",
       " '3 eggs',\n",
       " '6 tablespoon all purpose flour',\n",
       " '1/4 cup tawny Port',\n",
       " '3 tablespoons dried currants, minced',\n",
       " 'Lettuce leaves',\n",
       " 'Cracked peppercorns',\n",
       " 'Minced fresh parsley',\n",
       " 'Bay leaves',\n",
       " 'French bread baguette slices',\n",
       " '3 tablespoons olive oil',\n",
       " '2 large red onions, halved, sliced',\n",
       " '3 tablespoons dried currants',\n",
       " '3 tablespoons red wine vinegar',\n",
       " '1 tablespoons canned chicken broth',\n",
       " '2 teaspoons chopped fresh thyme or 3/4 teaspoon dried, crumbled',\n",
       " '1/2 teaspoon sugar']"
      ]
     },
     "execution_count": 16,
     "metadata": {},
     "output_type": "execute_result"
    }
   ],
   "source": [
    "data_recipe.iloc[1]['ingredients']"
   ]
  },
  {
   "cell_type": "markdown",
   "metadata": {},
   "source": [
    "Let's make the list of strings a single joined string"
   ]
  },
  {
   "cell_type": "code",
   "execution_count": 17,
   "metadata": {},
   "outputs": [],
   "source": [
    "data_recipe.ingredients = data_recipe.ingredients.apply(lambda x: ' '.join(x))"
   ]
  },
  {
   "cell_type": "code",
   "execution_count": 18,
   "metadata": {},
   "outputs": [
    {
     "data": {
      "text/plain": [
       "'4 cups low-sodium vegetable or chicken stock 1 cup dried brown lentils 1/2 cup dried French green lentils 2 stalks celery, chopped 1 large carrot, peeled and chopped 1 sprig fresh thyme 1 teaspoon kosher salt 1 medium tomato, cored, seeded, and diced 1 small Fuji apple, cored and diced 1 tablespoon freshly squeezed lemon juice 2 teaspoons extra-virgin olive oil Freshly ground black pepper to taste 3 sheets whole-wheat lavash, cut in half crosswise, or 6 (12-inch) flour tortillas 3/4 pound turkey breast, thinly sliced 1/2 head Bibb lettuce'"
      ]
     },
     "execution_count": 18,
     "metadata": {},
     "output_type": "execute_result"
    }
   ],
   "source": [
    "data_recipe.iloc[0]['ingredients']"
   ]
  },
  {
   "cell_type": "code",
   "execution_count": 19,
   "metadata": {},
   "outputs": [
    {
     "data": {
      "text/plain": [
       "'1 1/2 cups whipping cream 2 medium onions, chopped 5 teaspoons salt 3 bay leaves 3 whole cloves 1 large garlic clove, crushed 1 teaspoon pepper 1/8 teaspoon ground nutmeg Pinch of dried thyme, crumbled 8 large shallots, minced 1 tablespoon butter 1 pound trimmed boneless center pork loin, sinew removed cut into 1-inch chunks, well chilled 3 eggs 6 tablespoon all purpose flour 1/4 cup tawny Port 3 tablespoons dried currants, minced Lettuce leaves Cracked peppercorns Minced fresh parsley Bay leaves French bread baguette slices 3 tablespoons olive oil 2 large red onions, halved, sliced 3 tablespoons dried currants 3 tablespoons red wine vinegar 1 tablespoons canned chicken broth 2 teaspoons chopped fresh thyme or 3/4 teaspoon dried, crumbled 1/2 teaspoon sugar'"
      ]
     },
     "execution_count": 19,
     "metadata": {},
     "output_type": "execute_result"
    }
   ],
   "source": [
    "data_recipe.iloc[1]['ingredients']"
   ]
  },
  {
   "cell_type": "markdown",
   "metadata": {},
   "source": [
    "Let's now make all words lowercase"
   ]
  },
  {
   "cell_type": "code",
   "execution_count": 20,
   "metadata": {},
   "outputs": [],
   "source": [
    "data_recipe.ingredients = data_recipe.ingredients.apply(lambda x: x.lower())"
   ]
  },
  {
   "cell_type": "markdown",
   "metadata": {},
   "source": [
    "Defining the units and some common words that need to be removed from recipes"
   ]
  },
  {
   "cell_type": "code",
   "execution_count": 21,
   "metadata": {},
   "outputs": [],
   "source": [
    "unwanted_words = ['c', 'quarts', 'tbs', 'oz.', 'pinch', 'half', 'coarse', 't', 'liters', 'bunch', 'lb', 'T.', \n",
    "                  'glass', 'room', 'cube', 'sprigs', 'round', 'basket', 'gal.', 'pints', 'package', 'teaspoons', \n",
    "                  'T', 'bag', 'kilograms', 'tbsp.', 'pot', 'lb.', 'dashes', 'filets', 'jar', 'sprig', 'grill', \n",
    "                  'dash', 'specialty', 'slice', 'temperature', 'pan', 'oz', 'kg.', 'large', 'pound', 'touch', \n",
    "                  'yam', 'clove', 'box', 'chunk', 'gallon', 'qt.', 'lid', 'qts.', 'kg', 'mail', 'g.', 'fluid ounce', \n",
    "                  'cups', 'qts', 'lengthwise', 't.', 'order', 'ml.', 'grocer', 'skillet', 'tsp', 'milligrams', \n",
    "                  'milligram', 'kilogram', 'filet', 'gal', 'small', 'handful', 'thick', 'spray', 'cut', 'pt.', \n",
    "                  'spoon', 'milliliters', 'shop', 'key', 'pint', 'mg.', 'fl. oz.', 'crosswise', 'fl oz', 'touches', \n",
    "                  'liter', 'gr.', 'c.', 'milliliter', 'scoops', 'thin', 'l.', 'supermarket', 'cans', 'medium', \n",
    "                  'tsp.', 'ounce', 'g', 'tablespoons', 'tbs.', 'accompaniment', 'market', 'sheet', 'center', \n",
    "                  'gallons', 'dice', 'can', 'handfuls', 'tablespoon', 'teaspoon', 'tbsp', 'ml', 'equipment', \n",
    "                  'pinches', 'part', 'gr', 'cloves', 'qt', 'ounces', 'grams', 'gram', 'cup', 'stick', 'sticks', \n",
    "                  'envelope', 'scoop', 'flake', 'mg', 'l', 'pt', 'pounds', 'fluid ounces', 'quart', 'food', \n",
    "                  'microwave', 'piece', 'inch', 'layer', 'top', 'granny', 'triangle', 'note']"
   ]
  },
  {
   "cell_type": "markdown",
   "metadata": {},
   "source": [
    "In order to extract ingredients from the recipes we are going to apply the following pipeline:\n",
    "\n",
    "1. Keep only nouns using nltk\n",
    "2. Remove our defined unwanted words\n",
    "3. Do lemmatisation using nltk\n",
    "4. Keep only unique words in the final list"
   ]
  },
  {
   "cell_type": "markdown",
   "metadata": {},
   "source": [
    "First we need to do tokenization"
   ]
  },
  {
   "cell_type": "code",
   "execution_count": 22,
   "metadata": {},
   "outputs": [],
   "source": [
    "data_recipe.ingredients = data_recipe.ingredients.apply(lambda x: word_tokenize(x))"
   ]
  },
  {
   "cell_type": "markdown",
   "metadata": {},
   "source": [
    "Attaching a part of speech tag to each word "
   ]
  },
  {
   "cell_type": "code",
   "execution_count": 23,
   "metadata": {},
   "outputs": [],
   "source": [
    "data_recipe.ingredients = data_recipe.ingredients.apply(lambda x: nltk.pos_tag(x))"
   ]
  },
  {
   "cell_type": "markdown",
   "metadata": {},
   "source": [
    "Keeping only nouns"
   ]
  },
  {
   "cell_type": "code",
   "execution_count": 24,
   "metadata": {},
   "outputs": [],
   "source": [
    "data_recipe.ingredients = data_recipe.ingredients.apply(\n",
    "    lambda x: [word for word, pos in x if (pos == 'NN' or pos == 'NNP' or pos == 'NNS' or pos == 'NNPS')])"
   ]
  },
  {
   "cell_type": "markdown",
   "metadata": {},
   "source": [
    "Removing our defined unwanted words"
   ]
  },
  {
   "cell_type": "code",
   "execution_count": 25,
   "metadata": {},
   "outputs": [],
   "source": [
    "data_recipe.ingredients = data_recipe.ingredients.apply(lambda x: [w for w in x if w not in unwanted_words])"
   ]
  },
  {
   "cell_type": "markdown",
   "metadata": {},
   "source": [
    "Lemmatisation step"
   ]
  },
  {
   "cell_type": "code",
   "execution_count": 26,
   "metadata": {},
   "outputs": [],
   "source": [
    "wnl = WordNetLemmatizer()\n",
    "data_recipe.ingredients = data_recipe.ingredients.apply(lambda x: [wnl.lemmatize(token) for token in x])"
   ]
  },
  {
   "cell_type": "markdown",
   "metadata": {},
   "source": [
    "Removing duplicate words from the final list"
   ]
  },
  {
   "cell_type": "code",
   "execution_count": 27,
   "metadata": {},
   "outputs": [],
   "source": [
    "# stripping\n",
    "data_recipe.ingredients = data_recipe.ingredients.apply(lambda x: [each.strip('*/-.,+') for each in x])\n",
    "\n",
    "data_recipe.ingredients = data_recipe.ingredients.apply(lambda x: list(set(x)))"
   ]
  },
  {
   "cell_type": "markdown",
   "metadata": {},
   "source": [
    "The result for the first example after applying the pipeline"
   ]
  },
  {
   "cell_type": "code",
   "execution_count": 28,
   "metadata": {},
   "outputs": [
    {
     "data": {
      "text/plain": [
       "['oil',\n",
       " 'tomato',\n",
       " 'thyme',\n",
       " 'fuji',\n",
       " 'bibb',\n",
       " 'sheet',\n",
       " 'breast',\n",
       " 'lettuce',\n",
       " 'lavash',\n",
       " 'ground',\n",
       " 'turkey',\n",
       " 'carrot',\n",
       " 'lentil',\n",
       " 'kosher',\n",
       " 'head',\n",
       " 'juice',\n",
       " 'apple',\n",
       " 'celery',\n",
       " 'pepper',\n",
       " 'stock',\n",
       " 'stalk']"
      ]
     },
     "execution_count": 28,
     "metadata": {},
     "output_type": "execute_result"
    }
   ],
   "source": [
    "data_recipe.iloc[0]['ingredients']"
   ]
  },
  {
   "cell_type": "markdown",
   "metadata": {},
   "source": [
    "The result for the second example after applying the pipeline"
   ]
  },
  {
   "cell_type": "code",
   "execution_count": 29,
   "metadata": {},
   "outputs": [
    {
     "data": {
      "text/plain": [
       "['oil',\n",
       " 'chunk',\n",
       " 'leaf',\n",
       " 'thyme',\n",
       " 'butter',\n",
       " 'loin',\n",
       " 'wine',\n",
       " 'shallot',\n",
       " 'currant',\n",
       " 'onion',\n",
       " 'lettuce',\n",
       " 'port',\n",
       " 'cream',\n",
       " 'sugar',\n",
       " 'tawny',\n",
       " 'ground',\n",
       " 'pork',\n",
       " 'bay',\n",
       " 'egg',\n",
       " 'bread',\n",
       " 'parsley',\n",
       " 'baguette',\n",
       " 'pepper',\n",
       " 'peppercorn',\n",
       " 'vinegar']"
      ]
     },
     "execution_count": 29,
     "metadata": {},
     "output_type": "execute_result"
    }
   ],
   "source": [
    "data_recipe.iloc[1]['ingredients']"
   ]
  },
  {
   "cell_type": "markdown",
   "metadata": {},
   "source": [
    "They are not perfect but seem good enough :)"
   ]
  },
  {
   "cell_type": "markdown",
   "metadata": {},
   "source": [
    "Let's look at the distribution of the number of ingredients in recipes"
   ]
  },
  {
   "cell_type": "code",
   "execution_count": 30,
   "metadata": {},
   "outputs": [],
   "source": [
    "ingredients = data_recipe.ingredients.copy()"
   ]
  },
  {
   "cell_type": "code",
   "execution_count": 31,
   "metadata": {},
   "outputs": [],
   "source": [
    "l = np.array([len(elem) for elem in ingredients])"
   ]
  },
  {
   "cell_type": "code",
   "execution_count": 32,
   "metadata": {},
   "outputs": [
    {
     "data": {
      "image/png": "[encoded data removed]",
      "text/plain": [
       "<Figure size 1080x504 with 1 Axes>"
      ]
     },
     "metadata": {
      "needs_background": "light"
     },
     "output_type": "display_data"
    }
   ],
   "source": [
    "plt.figure(figsize=(15,7))\n",
    "plt.hist(l,bins=65)\n",
    "plt.title('Distribution of the length of recipes')\n",
    "plt.xlabel('Number of ingredients in a recipe')\n",
    "plt.ylabel('Count')\n",
    "plt.show()"
   ]
  },
  {
   "cell_type": "markdown",
   "metadata": {},
   "source": [
    "As we can see from the plot, we have a right-skewed normal distribution."
   ]
  },
  {
   "cell_type": "markdown",
   "metadata": {},
   "source": [
    "Given this data, we want to construct a weighted graph with nodes represented by the recipes and connect them based on the common ingredients they share. As a similarity metric between two recipes, we will use Jaccard similarity index which will serve as the weights for the graph."
   ]
  },
  {
   "cell_type": "markdown",
   "metadata": {},
   "source": [
    "Since our data is large, we want to keep only a subset of it. Out of the available 12466 recipes, we will take only 5000 based on random sampling."
   ]
  },
  {
   "cell_type": "code",
   "execution_count": 33,
   "metadata": {},
   "outputs": [],
   "source": [
    "np.random.seed(42)\n",
    "\n",
    "node_size = 5000\n",
    "\n",
    "indicies_to_take = np.random.permutation(data_recipe.shape[0])[:node_size]"
   ]
  },
  {
   "cell_type": "markdown",
   "metadata": {},
   "source": [
    "Selecting the rows corresponding to the chosen 5000 recipes"
   ]
  },
  {
   "cell_type": "code",
   "execution_count": 34,
   "metadata": {},
   "outputs": [],
   "source": [
    "new_data_recipe = data_recipe.loc[indicies_to_take]"
   ]
  },
  {
   "cell_type": "markdown",
   "metadata": {},
   "source": [
    "Now let's build our jaccard similarity matrix "
   ]
  },
  {
   "cell_type": "code",
   "execution_count": 35,
   "metadata": {},
   "outputs": [
    {
     "name": "stderr",
     "output_type": "stream",
     "text": [
      "100%|██████████| 5000/5000 [01:18<00:00, 63.37it/s] \n"
     ]
    }
   ],
   "source": [
    "jaccard_similarity_matrix = np.zeros((node_size,node_size))\n",
    "\n",
    "new_ingredients = new_data_recipe.ingredients.values\n",
    "\n",
    "for i in tqdm(range(node_size)):\n",
    "    for j in range(i,node_size):\n",
    "        jaccard_similarity_matrix[i,j] = 1 - nltk.jaccard_distance(set(new_ingredients[i]), set(new_ingredients[j]))\n",
    "        jaccard_similarity_matrix[j,i] = jaccard_similarity_matrix[i,j]"
   ]
  },
  {
   "cell_type": "markdown",
   "metadata": {},
   "source": [
    "Setting diagonal entries 0"
   ]
  },
  {
   "cell_type": "code",
   "execution_count": 36,
   "metadata": {},
   "outputs": [],
   "source": [
    "np.fill_diagonal(jaccard_similarity_matrix,0)"
   ]
  },
  {
   "cell_type": "markdown",
   "metadata": {},
   "source": [
    "Let's take a look at the distribution of the obtained Jaccard similarity values."
   ]
  },
  {
   "cell_type": "code",
   "execution_count": 37,
   "metadata": {},
   "outputs": [
    {
     "data": {
      "image/png": "[encoded data removed]",
      "text/plain": [
       "<Figure size 1080x504 with 1 Axes>"
      ]
     },
     "metadata": {
      "needs_background": "light"
     },
     "output_type": "display_data"
    }
   ],
   "source": [
    "plt.figure(figsize=(15,7))\n",
    "plt.hist(jaccard_similarity_matrix.flatten(),bins=100)\n",
    "plt.title('Distribution of the Jaccard similarity values')\n",
    "plt.xlabel('Jaccard similarity index')\n",
    "plt.ylabel('Count')\n",
    "plt.xticks(np.linspace(0,1,11))\n",
    "plt.show()"
   ]
  },
  {
   "cell_type": "code",
   "execution_count": 38,
   "metadata": {},
   "outputs": [
    {
     "name": "stdout",
     "output_type": "stream",
     "text": [
      "Number of edges: 8685453\n"
     ]
    }
   ],
   "source": [
    "print('Number of edges: {}'.format(int(len(jaccard_similarity_matrix[jaccard_similarity_matrix>0])/2)))"
   ]
  },
  {
   "cell_type": "markdown",
   "metadata": {},
   "source": [
    "As we can see, we have enourmous number of edges. Most of them are weakly connected, so let's remove those edges."
   ]
  },
  {
   "cell_type": "code",
   "execution_count": 39,
   "metadata": {},
   "outputs": [],
   "source": [
    "threshold = 0.2\n",
    "\n",
    "jaccard_similarity_matrix[jaccard_similarity_matrix<threshold] = 0"
   ]
  },
  {
   "cell_type": "code",
   "execution_count": 40,
   "metadata": {},
   "outputs": [
    {
     "name": "stdout",
     "output_type": "stream",
     "text": [
      "Number of edges now: 230352\n"
     ]
    }
   ],
   "source": [
    "print('Number of edges now: {}'.format(int(len(jaccard_similarity_matrix[jaccard_similarity_matrix>0])/2)))"
   ]
  },
  {
   "cell_type": "markdown",
   "metadata": {},
   "source": [
    "Saving the adjacency matrix as a numpy array"
   ]
  },
  {
   "cell_type": "code",
   "execution_count": 41,
   "metadata": {},
   "outputs": [],
   "source": [
    "np.save('adjacency_matrix.npy',jaccard_similarity_matrix)"
   ]
  },
  {
   "cell_type": "markdown",
   "metadata": {},
   "source": [
    "Saving the chosen subset of the processed data"
   ]
  },
  {
   "cell_type": "code",
   "execution_count": 42,
   "metadata": {},
   "outputs": [],
   "source": [
    "new_data_recipe.to_json('processed_data.json')"
   ]
  },
  {
   "cell_type": "code",
   "execution_count": null,
   "metadata": {},
   "outputs": [],
   "source": []
  }
 ],
 "metadata": {
  "kernelspec": {
   "display_name": "Python 3",
   "language": "python",
   "name": "python3"
  },
  "language_info": {
   "codemirror_mode": {
    "name": "ipython",
    "version": 3
   },
   "file_extension": ".py",
   "mimetype": "text/x-python",
   "name": "python",
   "nbconvert_exporter": "python",
   "pygments_lexer": "ipython3",
   "version": "3.6.9"
  }
 },
 "nbformat": 4,
 "nbformat_minor": 2
}
