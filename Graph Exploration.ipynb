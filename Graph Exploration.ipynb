{
 "cells": [
  {
   "cell_type": "code",
   "execution_count": 1,
   "metadata": {},
   "outputs": [],
   "source": [
    "import pandas as pd\n",
    "import numpy as np\n",
    "import matplotlib.pyplot as plt\n",
    "from operator import itemgetter\n",
    "\n",
    "import networkx as nx\n",
    "\n",
    "from tqdm import tqdm"
   ]
  },
  {
   "cell_type": "markdown",
   "metadata": {},
   "source": [
    "Loading the adjacency matrix and the sampled data"
   ]
  },
  {
   "cell_type": "code",
   "execution_count": 2,
   "metadata": {},
   "outputs": [],
   "source": [
    "adjacency_matrix = np.load('adjacency_matrix.npy')\n",
    "\n",
    "data_recipe = pd.read_json('processed_data.json').reset_index(drop=True)"
   ]
  },
  {
   "cell_type": "code",
   "execution_count": 3,
   "metadata": {},
   "outputs": [
    {
     "data": {
      "text/html": [
       "<div>\n",
       "<style scoped>\n",
       "    .dataframe tbody tr th:only-of-type {\n",
       "        vertical-align: middle;\n",
       "    }\n",
       "\n",
       "    .dataframe tbody tr th {\n",
       "        vertical-align: top;\n",
       "    }\n",
       "\n",
       "    .dataframe thead th {\n",
       "        text-align: right;\n",
       "    }\n",
       "</style>\n",
       "<table border=\"1\" class=\"dataframe\">\n",
       "  <thead>\n",
       "    <tr style=\"text-align: right;\">\n",
       "      <th></th>\n",
       "      <th>directions</th>\n",
       "      <th>fat</th>\n",
       "      <th>date</th>\n",
       "      <th>categories</th>\n",
       "      <th>calories</th>\n",
       "      <th>protein</th>\n",
       "      <th>rating</th>\n",
       "      <th>title</th>\n",
       "      <th>ingredients</th>\n",
       "      <th>sodium</th>\n",
       "    </tr>\n",
       "  </thead>\n",
       "  <tbody>\n",
       "    <tr>\n",
       "      <td>0</td>\n",
       "      <td>[Position rack in center of oven; preheat to 3...</td>\n",
       "      <td>27</td>\n",
       "      <td>2004-08-20 04:00:00</td>\n",
       "      <td>[Cake, Food Processor, Mixer, Cheese, Dairy, E...</td>\n",
       "      <td>479</td>\n",
       "      <td>7</td>\n",
       "      <td>3.750</td>\n",
       "      <td>Christmas Cranberry, Pear and Walnut Torte wit...</td>\n",
       "      <td>[orange, puree, cheese-orange, egg, frosting, ...</td>\n",
       "      <td>204</td>\n",
       "    </tr>\n",
       "    <tr>\n",
       "      <td>1</td>\n",
       "      <td>[Butter 11x7x2-inch glass baking dish. Sauté s...</td>\n",
       "      <td>46</td>\n",
       "      <td>2004-08-20 04:00:00</td>\n",
       "      <td>[Onion, Pepper, Pork, Breakfast, Sauté, Parmes...</td>\n",
       "      <td>606</td>\n",
       "      <td>22</td>\n",
       "      <td>3.125</td>\n",
       "      <td>Breakfast Polenta with Sausage, Onion and Peppers</td>\n",
       "      <td>[sausage, casing, bell, onion, cornmeal, butte...</td>\n",
       "      <td>968</td>\n",
       "    </tr>\n",
       "    <tr>\n",
       "      <td>2</td>\n",
       "      <td>[Stir together butter, horseradish, dill, shal...</td>\n",
       "      <td>100</td>\n",
       "      <td>2007-05-17 19:43:26</td>\n",
       "      <td>[Fish, Herb, Backyard BBQ, Dinner, Horseradish...</td>\n",
       "      <td>1305</td>\n",
       "      <td>92</td>\n",
       "      <td>4.375</td>\n",
       "      <td>Grilled Boneless Salmon Steaks with Horseradis...</td>\n",
       "      <td>[horseradish, shallot, oil, string, salmon, bu...</td>\n",
       "      <td>923</td>\n",
       "    </tr>\n",
       "    <tr>\n",
       "      <td>3</td>\n",
       "      <td>[Cook bacon in a deep 12-inch heavy skillet ov...</td>\n",
       "      <td>71</td>\n",
       "      <td>2004-08-20 04:00:00</td>\n",
       "      <td>[Chicken, Garlic, Braise, Vinegar, Bacon, Fall...</td>\n",
       "      <td>1086</td>\n",
       "      <td>81</td>\n",
       "      <td>3.750</td>\n",
       "      <td>Braised Chicken with Shallots, Garlic, and Bal...</td>\n",
       "      <td>[shallot, slice, piece, head, strip, 1/2-lb, b...</td>\n",
       "      <td>485</td>\n",
       "    </tr>\n",
       "    <tr>\n",
       "      <td>4</td>\n",
       "      <td>[Cut off all peel and white pith from 3 blood ...</td>\n",
       "      <td>0</td>\n",
       "      <td>2007-10-02 19:13:35</td>\n",
       "      <td>[Sauce, Food Processor, Side, No-Cook, Christm...</td>\n",
       "      <td>255</td>\n",
       "      <td>2</td>\n",
       "      <td>4.375</td>\n",
       "      <td>Cranberry and Blood Orange Relish</td>\n",
       "      <td>[blood, orange, cranberry, sugar]</td>\n",
       "      <td>2</td>\n",
       "    </tr>\n",
       "  </tbody>\n",
       "</table>\n",
       "</div>"
      ],
      "text/plain": [
       "                                          directions  fat                date  \\\n",
       "0  [Position rack in center of oven; preheat to 3...   27 2004-08-20 04:00:00   \n",
       "1  [Butter 11x7x2-inch glass baking dish. Sauté s...   46 2004-08-20 04:00:00   \n",
       "2  [Stir together butter, horseradish, dill, shal...  100 2007-05-17 19:43:26   \n",
       "3  [Cook bacon in a deep 12-inch heavy skillet ov...   71 2004-08-20 04:00:00   \n",
       "4  [Cut off all peel and white pith from 3 blood ...    0 2007-10-02 19:13:35   \n",
       "\n",
       "                                          categories  calories  protein  \\\n",
       "0  [Cake, Food Processor, Mixer, Cheese, Dairy, E...       479        7   \n",
       "1  [Onion, Pepper, Pork, Breakfast, Sauté, Parmes...       606       22   \n",
       "2  [Fish, Herb, Backyard BBQ, Dinner, Horseradish...      1305       92   \n",
       "3  [Chicken, Garlic, Braise, Vinegar, Bacon, Fall...      1086       81   \n",
       "4  [Sauce, Food Processor, Side, No-Cook, Christm...       255        2   \n",
       "\n",
       "   rating                                              title  \\\n",
       "0   3.750  Christmas Cranberry, Pear and Walnut Torte wit...   \n",
       "1   3.125  Breakfast Polenta with Sausage, Onion and Peppers   \n",
       "2   4.375  Grilled Boneless Salmon Steaks with Horseradis...   \n",
       "3   3.750  Braised Chicken with Shallots, Garlic, and Bal...   \n",
       "4   4.375                  Cranberry and Blood Orange Relish   \n",
       "\n",
       "                                         ingredients  sodium  \n",
       "0  [orange, puree, cheese-orange, egg, frosting, ...     204  \n",
       "1  [sausage, casing, bell, onion, cornmeal, butte...     968  \n",
       "2  [horseradish, shallot, oil, string, salmon, bu...     923  \n",
       "3  [shallot, slice, piece, head, strip, 1/2-lb, b...     485  \n",
       "4                  [blood, orange, cranberry, sugar]       2  "
      ]
     },
     "execution_count": 3,
     "metadata": {},
     "output_type": "execute_result"
    }
   ],
   "source": [
    "data_recipe.head(5)"
   ]
  },
  {
   "cell_type": "markdown",
   "metadata": {},
   "source": [
    "Plotting the adjacency matrix to see sparsity pattern"
   ]
  },
  {
   "cell_type": "code",
   "execution_count": 4,
   "metadata": {},
   "outputs": [
    {
     "data": {
      "image/png": "[encoded data removed]",
      "text/plain": [
       "<Figure size 360x360 with 1 Axes>"
      ]
     },
     "metadata": {
      "needs_background": "light"
     },
     "output_type": "display_data"
    }
   ],
   "source": [
    "plt.figure(figsize=(5,5))\n",
    "plt.spy(adjacency_matrix)\n",
    "plt.show()"
   ]
  },
  {
   "cell_type": "code",
   "execution_count": 5,
   "metadata": {},
   "outputs": [],
   "source": [
    "def describe_graph(G):\n",
    "    \"\"\"\n",
    "    Helper function for printing various graph properties.\n",
    "    \n",
    "    Parameters\n",
    "    ----------\n",
    "    \n",
    "    G: NetworkX graph object\n",
    "        Graph\n",
    "    \"\"\"\n",
    "    print(nx.info(G))\n",
    "    if nx.is_connected(G):\n",
    "        print(\"Avg. Shortest Path Length: %.4f\" %nx.average_shortest_path_length(G))\n",
    "        print(\"Diameter: %.4f\" %nx.diameter(G)) # Longest shortest path\n",
    "    else:\n",
    "        print(\"Graph is not connected\")\n",
    "        print(\"Diameter and Avg shortest path length are not defined!\")\n",
    "        \n",
    "        # Number of connected components.\n",
    "        comp = list(nx.connected_components(G))\n",
    "        print('The graph contains', len(comp), 'connected components')\n",
    "        \n",
    "        # Largest connected component properties.\n",
    "        largest_comp = max(comp, key=len)\n",
    "        percentage_lcc = len(largest_comp)/G.number_of_nodes() * 100\n",
    "        print('The largest component has', len(largest_comp), 'nodes', 'accounting for %.2f'% percentage_lcc, '% of the nodes')\n",
    "        lcc_G = G.subgraph(largest_comp)\n",
    "        print(\"The diameter of the largest connected component is\", nx.diameter(lcc_G))\n",
    "        print(\"The avg shortest path length of the largest connected component is\", nx.average_shortest_path_length(lcc_G))\n",
    "        \n",
    "        # Smallest connected component properties.\n",
    "        smallest_comp = min(comp, key=len)\n",
    "        percentage_scc = len(smallest_comp)/G.number_of_nodes() * 100\n",
    "        print('The smallest component has', len(smallest_comp), 'nodes', 'accounting for %.2f'% percentage_scc, '% of the nodes')\n",
    "        scc_G = G.subgraph(smallest_comp)\n",
    "        print(\"The diameter of the smallest connected component is\", nx.diameter(scc_G))\n",
    "        print(\"The avg shortest path length of the smallest connected component is\", nx.average_shortest_path_length(scc_G))\n",
    "        \n",
    "    print(\"Sparsity: %.4f\" %nx.density(G))  # #edges/#edges-complete-graph\n",
    "    # #closed-triplets(3*#triangles)/#all-triplets\n",
    "    print(\"Global clustering coefficient aka Transitivity: %.4f\" %nx.transitivity(G))"
   ]
  },
  {
   "cell_type": "markdown",
   "metadata": {},
   "source": [
    "Let's create a graph object from our adjacency matrix"
   ]
  },
  {
   "cell_type": "code",
   "execution_count": 6,
   "metadata": {},
   "outputs": [],
   "source": [
    "graph = nx.from_numpy_array(adjacency_matrix)"
   ]
  },
  {
   "cell_type": "markdown",
   "metadata": {},
   "source": [
    "Now, let's add attributes to our graph's nodes"
   ]
  },
  {
   "cell_type": "code",
   "execution_count": 7,
   "metadata": {},
   "outputs": [],
   "source": [
    "nx.set_node_attributes(graph, data_recipe['title'].to_dict(), 'title')\n",
    "nx.set_node_attributes(graph, data_recipe['protein'].to_dict(), 'protein')\n",
    "nx.set_node_attributes(graph, data_recipe['fat'].to_dict(), 'fat')\n",
    "nx.set_node_attributes(graph, data_recipe['sodium'].to_dict(), 'sodium')\n",
    "nx.set_node_attributes(graph, data_recipe['calories'].to_dict(), 'calories')\n",
    "nx.set_node_attributes(graph, data_recipe['rating'].to_dict(), 'rating')\n",
    "nx.set_node_attributes(graph, data_recipe['ingredients'].to_dict(), 'ingredients')"
   ]
  },
  {
   "cell_type": "code",
   "execution_count": 8,
   "metadata": {},
   "outputs": [
    {
     "name": "stdout",
     "output_type": "stream",
     "text": [
      "Name: \n",
      "Type: Graph\n",
      "Number of nodes: 5000\n",
      "Number of edges: 230352\n",
      "Average degree:  92.1408\n",
      "Graph is not connected\n",
      "Diameter and Avg shortest path length are not defined!\n",
      "The graph contains 29 connected components\n",
      "The largest component has 4972 nodes accounting for 99.44 % of the nodes\n",
      "The diameter of the largest connected component is 7\n",
      "The avg shortest path length of the largest connected component is 2.729762954986063\n",
      "The smallest component has 1 nodes accounting for 0.02 % of the nodes\n",
      "The diameter of the smallest connected component is 0\n",
      "The avg shortest path length of the smallest connected component is 0\n",
      "Sparsity: 0.0184\n",
      "Global clustering coefficient aka Transitivity: 0.3363\n"
     ]
    }
   ],
   "source": [
    "# this takes a couple of hours to run\n",
    "describe_graph(graph)"
   ]
  },
  {
   "cell_type": "markdown",
   "metadata": {},
   "source": [
    "Most of the nodes are in the giant/largest component, which is often the case in a graph."
   ]
  },
  {
   "cell_type": "code",
   "execution_count": 9,
   "metadata": {},
   "outputs": [
    {
     "name": "stdout",
     "output_type": "stream",
     "text": [
      "Node #463 which is 'Lemon Tea Cake with Blueberry-Red Wine Sauce' has common ingredients with 638 recipes.\n",
      "It contains the following ingredients: ['wine', 'vanilla', 'blueberry', 'powder', 'oil', 'egg', 'juice', 'butter', 'cream', 'sugar', 'water', 'ground', 'peel', 'soda'] \n",
      "\n",
      "Node #700 which is 'Classic Lemon Cheesecake' has common ingredients with 624 recipes.\n",
      "It contains the following ingredients: ['flour', 'cheese', 'egg', 'lemon', 'juice', 'butter', 'cream', 'sugar', 'water', 'vanilla', 'superfine'] \n",
      "\n",
      "Node #2469 which is 'Orange-Spice Bûche de Noël with Orange Cream Cheese Frosting' has common ingredients with 597 recipes.\n",
      "It contains the following ingredients: ['extract', 'vanilla', 'apple', 'powder', 'orange', 'cider', 'cheese', 'vinegar', 'egg', 'juice', 'butter', 'cream', 'sugar', 'water', 'ground', 'peel', 'milk'] \n",
      "\n",
      "Node #4969 which is 'Sticky Date Pudding with Toffee Sauce' has common ingredients with 594 recipes.\n",
      "It contains the following ingredients: ['date', 'vanilla', 'powder', 'ice', 'egg', 'butter', 'cream', 'sugar', 'water', 'ground', 'soda'] \n",
      "\n",
      "Node #1065 which is 'Cinnamon Coffee Cake Kotniuk' has common ingredients with 587 recipes.\n",
      "It contains the following ingredients: ['powder', 'egg', 'butter', 'cream', 'sugar', 'cinnamon', 'soda', 'vanilla'] \n",
      "\n"
     ]
    }
   ],
   "source": [
    "# Which nodes/recipes contain the most common ingredients.\n",
    "degrees = dict(graph.degree(graph.nodes()))\n",
    "sorted_degree = sorted(degrees.items(), key=itemgetter(1), reverse=True)\n",
    "\n",
    "# The top 5 most connected nodes/recipes.\n",
    "for recipe, degree in sorted_degree[:5]:\n",
    "    print('Node', '#' + str(recipe), 'which is', \"'\" + graph.node[recipe]['title'] + \"'\", 'has common ingredients with', str(degree), 'recipes.')\n",
    "    print('It contains the following ingredients:', graph.node[recipe]['ingredients'], '\\n')"
   ]
  },
  {
   "cell_type": "markdown",
   "metadata": {},
   "source": [
    "So the recipes which have most common ingredients with other recipes are:\n",
    "- Lemon Tea Cake with Blueberry-Red Wine Sauce\n",
    "- Classic Lemon Cheesecake\n",
    "- Orange-Spice Bûche de Noël with Orange Cream Cheese Frosting\n",
    "- Sticky Date Pudding with Toffee Sauce\n",
    "- Cinnamon Coffee Cake Kotniuk\n",
    "\n",
    "By looking at their ingredients one can conclude that among the most common ingredients we can name:\n",
    "- egg\n",
    "- water\n",
    "- sugar\n",
    "- butter\n",
    "- cream\n",
    "\n",
    "As can observe all of the 5-most connected recipe nodes are desserts."
   ]
  },
  {
   "cell_type": "code",
   "execution_count": 10,
   "metadata": {},
   "outputs": [],
   "source": [
    "def plot_degree_distribution(G, log_log=False):\n",
    "    \"\"\"\n",
    "    Helper function for plotting the degree distribution of the graph.\n",
    "    \n",
    "    Parameters\n",
    "    ----------\n",
    "    \n",
    "    G: NetworkX graph object\n",
    "        Graph\n",
    "    \"\"\"\n",
    "    degrees = {}\n",
    "    for node in G.nodes():\n",
    "        degree = G.degree(node)\n",
    "        if degree not in degrees:\n",
    "            degrees[degree] = 0\n",
    "        degrees[degree] += 1\n",
    "    sorted_degree = sorted(degrees.items())\n",
    "    deg = [k for (k,v) in sorted_degree]\n",
    "    cnt = [v for (k,v) in sorted_degree]\n",
    "    fig, ax = plt.subplots(figsize=(28,10))\n",
    "    plt.bar(deg, cnt, width=0.80, color='b')\n",
    "    if log_log:\n",
    "        plt.yscale('log')\n",
    "        plt.xscale('log')\n",
    "        plt.title(\"Degree Distribution (log-log plot)\")\n",
    "    else:\n",
    "        plt.title(\"Degree Distribution\")\n",
    "        ax.set_xticks([d+0.05 for d in deg if d%13==0])\n",
    "    plt.ylabel(\"Frequency\")\n",
    "    plt.xlabel(\"Degree\")"
   ]
  },
  {
   "cell_type": "code",
   "execution_count": 11,
   "metadata": {},
   "outputs": [
    {
     "data": {
      "image/png": "[encoded data removed]",
      "text/plain": [
       "<Figure size 2016x720 with 1 Axes>"
      ]
     },
     "metadata": {
      "needs_background": "light"
     },
     "output_type": "display_data"
    }
   ],
   "source": [
    "plot_degree_distribution(graph)"
   ]
  },
  {
   "cell_type": "markdown",
   "metadata": {},
   "source": [
    "The degree distribution of the network seems to follow a power law. Let's also take a look at the log-log plot to see if our nework is scale free or not."
   ]
  },
  {
   "cell_type": "code",
   "execution_count": 12,
   "metadata": {},
   "outputs": [
    {
     "data": {
      "image/png": "[encoded data removed]",
      "text/plain": [
       "<Figure size 2016x720 with 1 Axes>"
      ]
     },
     "metadata": {
      "needs_background": "light"
     },
     "output_type": "display_data"
    }
   ],
   "source": [
    "plot_degree_distribution(graph,log_log=True)"
   ]
  },
  {
   "cell_type": "markdown",
   "metadata": {},
   "source": [
    "As we can observe from the log-log plot, our network has degree distribution closer to a log-normal rather than a power law (in case of power law we should have obtained a straight line)."
   ]
  },
  {
   "cell_type": "code",
   "execution_count": 13,
   "metadata": {},
   "outputs": [
    {
     "name": "stdout",
     "output_type": "stream",
     "text": [
      "Average clustering coefficient: 0.31527120652048074\n"
     ]
    }
   ],
   "source": [
    "print('Average clustering coefficient:', nx.average_clustering(graph))"
   ]
  },
  {
   "cell_type": "code",
   "execution_count": null,
   "metadata": {},
   "outputs": [],
   "source": []
  }
 ],
 "metadata": {
  "kernelspec": {
   "display_name": "Python 3",
   "language": "python",
   "name": "python3"
  },
  "language_info": {
   "codemirror_mode": {
    "name": "ipython",
    "version": 3
   },
   "file_extension": ".py",
   "mimetype": "text/x-python",
   "name": "python",
   "nbconvert_exporter": "python",
   "pygments_lexer": "ipython3",
   "version": "3.6.9"
  }
 },
 "nbformat": 4,
 "nbformat_minor": 4
}
