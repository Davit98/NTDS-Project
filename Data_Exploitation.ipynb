{
 "cells": [
  {
   "cell_type": "code",
   "execution_count": 1,
   "metadata": {},
   "outputs": [],
   "source": [
    "import pandas as pd\n",
    "import numpy as np\n",
    "import matplotlib.pyplot as plt\n",
    "from operator import itemgetter\n",
    "\n",
    "import networkx as nx\n",
    "from community import community_louvain\n",
    "from networkx.algorithms.community.centrality import girvan_newman\n",
    "\n",
    "from tqdm import tqdm"
   ]
  },
  {
   "cell_type": "code",
   "execution_count": 2,
   "metadata": {},
   "outputs": [],
   "source": [
    "adjacency_matrix = np.load('adjacency_matrix.npy')\n",
    "\n",
    "data_recipe = pd.read_json('processed_data.json').reset_index(drop=True)"
   ]
  },
  {
   "cell_type": "code",
   "execution_count": 3,
   "metadata": {},
   "outputs": [
    {
     "data": {
      "text/html": [
       "<div>\n",
       "<style scoped>\n",
       "    .dataframe tbody tr th:only-of-type {\n",
       "        vertical-align: middle;\n",
       "    }\n",
       "\n",
       "    .dataframe tbody tr th {\n",
       "        vertical-align: top;\n",
       "    }\n",
       "\n",
       "    .dataframe thead th {\n",
       "        text-align: right;\n",
       "    }\n",
       "</style>\n",
       "<table border=\"1\" class=\"dataframe\">\n",
       "  <thead>\n",
       "    <tr style=\"text-align: right;\">\n",
       "      <th></th>\n",
       "      <th>directions</th>\n",
       "      <th>fat</th>\n",
       "      <th>date</th>\n",
       "      <th>categories</th>\n",
       "      <th>calories</th>\n",
       "      <th>protein</th>\n",
       "      <th>rating</th>\n",
       "      <th>title</th>\n",
       "      <th>ingredients</th>\n",
       "      <th>sodium</th>\n",
       "    </tr>\n",
       "  </thead>\n",
       "  <tbody>\n",
       "    <tr>\n",
       "      <td>0</td>\n",
       "      <td>[In a 1-pint jar with a tight-fitting lid comb...</td>\n",
       "      <td>32</td>\n",
       "      <td>2004-08-20 12:48:48</td>\n",
       "      <td>[Cheese, Herb, Appetizer, Winter, Gourmet]</td>\n",
       "      <td>306</td>\n",
       "      <td>4</td>\n",
       "      <td>3.750</td>\n",
       "      <td>Goat Cheese Marinated in Rosemary, Fennel, and...</td>\n",
       "      <td>[peeler, lemon, goat, log, oil, cheese, fennel...</td>\n",
       "      <td>106</td>\n",
       "    </tr>\n",
       "    <tr>\n",
       "      <td>1</td>\n",
       "      <td>[Preheat oven to 400°F with rack in middle., T...</td>\n",
       "      <td>7</td>\n",
       "      <td>2008-10-16 04:00:00</td>\n",
       "      <td>[Side, Roast, Thanksgiving, Vegetarian, Dinner...</td>\n",
       "      <td>168</td>\n",
       "      <td>6</td>\n",
       "      <td>4.375</td>\n",
       "      <td>Parmesan-Roasted Butternut Squash</td>\n",
       "      <td>[parmigiano-reggiano, cream, sage, piece, squash]</td>\n",
       "      <td>142</td>\n",
       "    </tr>\n",
       "    <tr>\n",
       "      <td>2</td>\n",
       "      <td>[Cut an X in bottom of each tomato with a shar...</td>\n",
       "      <td>102</td>\n",
       "      <td>2004-09-21 20:28:40</td>\n",
       "      <td>[Beef, Potato, Tomato, Bake, Fall, Winter, Gou...</td>\n",
       "      <td>1303</td>\n",
       "      <td>42</td>\n",
       "      <td>3.125</td>\n",
       "      <td>Croatian Moussaka</td>\n",
       "      <td>[egg, potato, onion, parmigiano-reggiano, brea...</td>\n",
       "      <td>713</td>\n",
       "    </tr>\n",
       "    <tr>\n",
       "      <td>3</td>\n",
       "      <td>[Heat oil in heavy large pot over medium-heat....</td>\n",
       "      <td>13</td>\n",
       "      <td>2004-09-21 20:28:11</td>\n",
       "      <td>[Soup/Stew, Pasta, Shellfish, Tomato, Sauté, C...</td>\n",
       "      <td>396</td>\n",
       "      <td>47</td>\n",
       "      <td>4.375</td>\n",
       "      <td>Ann Pachett's Spicy Seafood Chowder</td>\n",
       "      <td>[scallop, onion, bell, parsley, shrimp, juice,...</td>\n",
       "      <td>2133</td>\n",
       "    </tr>\n",
       "    <tr>\n",
       "      <td>4</td>\n",
       "      <td>[Thinly slice cabbage and onion separately. In...</td>\n",
       "      <td>5</td>\n",
       "      <td>2004-08-20 04:00:00</td>\n",
       "      <td>[Onion, Side, Quick &amp; Easy, Vinegar, Fall, Cab...</td>\n",
       "      <td>100</td>\n",
       "      <td>2</td>\n",
       "      <td>3.750</td>\n",
       "      <td>Wilted Red Cabbage with Balsamic Vinegar</td>\n",
       "      <td>[sugar, water, onion, vinegar, ground, pepper,...</td>\n",
       "      <td>35</td>\n",
       "    </tr>\n",
       "  </tbody>\n",
       "</table>\n",
       "</div>"
      ],
      "text/plain": [
       "                                          directions  fat                date  \\\n",
       "0  [In a 1-pint jar with a tight-fitting lid comb...   32 2004-08-20 12:48:48   \n",
       "1  [Preheat oven to 400°F with rack in middle., T...    7 2008-10-16 04:00:00   \n",
       "2  [Cut an X in bottom of each tomato with a shar...  102 2004-09-21 20:28:40   \n",
       "3  [Heat oil in heavy large pot over medium-heat....   13 2004-09-21 20:28:11   \n",
       "4  [Thinly slice cabbage and onion separately. In...    5 2004-08-20 04:00:00   \n",
       "\n",
       "                                          categories  calories  protein  \\\n",
       "0         [Cheese, Herb, Appetizer, Winter, Gourmet]       306        4   \n",
       "1  [Side, Roast, Thanksgiving, Vegetarian, Dinner...       168        6   \n",
       "2  [Beef, Potato, Tomato, Bake, Fall, Winter, Gou...      1303       42   \n",
       "3  [Soup/Stew, Pasta, Shellfish, Tomato, Sauté, C...       396       47   \n",
       "4  [Onion, Side, Quick & Easy, Vinegar, Fall, Cab...       100        2   \n",
       "\n",
       "   rating                                              title  \\\n",
       "0   3.750  Goat Cheese Marinated in Rosemary, Fennel, and...   \n",
       "1   4.375                 Parmesan-Roasted Butternut Squash    \n",
       "2   3.125                                 Croatian Moussaka    \n",
       "3   4.375               Ann Pachett's Spicy Seafood Chowder    \n",
       "4   3.750          Wilted Red Cabbage with Balsamic Vinegar    \n",
       "\n",
       "                                         ingredients  sodium  \n",
       "0  [peeler, lemon, goat, log, oil, cheese, fennel...     106  \n",
       "1  [parmigiano-reggiano, cream, sage, piece, squash]     142  \n",
       "2  [egg, potato, onion, parmigiano-reggiano, brea...     713  \n",
       "3  [scallop, onion, bell, parsley, shrimp, juice,...    2133  \n",
       "4  [sugar, water, onion, vinegar, ground, pepper,...      35  "
      ]
     },
     "execution_count": 3,
     "metadata": {},
     "output_type": "execute_result"
    }
   ],
   "source": [
    "data_recipe.head(5)"
   ]
  },
  {
   "cell_type": "code",
   "execution_count": 4,
   "metadata": {},
   "outputs": [
    {
     "data": {
      "image/png": "[encoded data removed]",
      "text/plain": [
       "<Figure size 360x360 with 1 Axes>"
      ]
     },
     "metadata": {
      "needs_background": "light"
     },
     "output_type": "display_data"
    }
   ],
   "source": [
    "plt.figure(figsize=(5,5))\n",
    "plt.spy(adjacency_matrix)\n",
    "plt.show()"
   ]
  },
  {
   "cell_type": "code",
   "execution_count": 5,
   "metadata": {},
   "outputs": [
    {
     "data": {
      "text/plain": [
       "4.375    2281\n",
       "3.750    1437\n",
       "5.000     675\n",
       "3.125     396\n",
       "2.500     147\n",
       "1.250      42\n",
       "1.875      22\n",
       "Name: rating, dtype: int64"
      ]
     },
     "execution_count": 5,
     "metadata": {},
     "output_type": "execute_result"
    }
   ],
   "source": [
    "data_recipe.rating.value_counts()"
   ]
  },
  {
   "cell_type": "code",
   "execution_count": 6,
   "metadata": {},
   "outputs": [],
   "source": [
    "# Helper function for printing various graph properties.\n",
    "def describe_graph(G):\n",
    "    print(nx.info(G))\n",
    "    if nx.is_connected(G):\n",
    "        print(\"Avg. Shortest Path Length: %.4f\" %nx.average_shortest_path_length(G))\n",
    "        print(\"Diameter: %.4f\" %nx.diameter(G)) # Longest shortest path\n",
    "    else:\n",
    "        print(\"Graph is not connected\")\n",
    "        print(\"Diameter and Avg shortest path length are not defined!\")\n",
    "        \n",
    "        # Number of connected components.\n",
    "        comp = list(nx.connected_components(G))\n",
    "        print('The graph contains', len(comp), 'connected components')\n",
    "        \n",
    "        # Largest connected components properties.\n",
    "        largest_comp = max(comp, key=len)\n",
    "        percentage_lcc = len(largest_comp)/G.number_of_nodes() * 100\n",
    "        print('The largest component has', len(largest_comp), 'nodes', 'accounting for %.2f'% percentage_lcc, '% of the nodes')\n",
    "        lcc_G = G.subgraph(largest_comp)\n",
    "        print(\"The diameter of the largest connected component is\", nx.diameter(lcc_G))\n",
    "        print(\"The avg shortest path length of the largest connected component is\", nx.average_shortest_path_length(lcc_G))\n",
    "        \n",
    "        # Smallest connected component properties.\n",
    "        smallest_comp = min(comp, key=len)\n",
    "        percentage_scc = len(smallest_comp)/G.number_of_nodes() * 100\n",
    "        print('The smallest component has', len(smallest_comp), 'nodes', 'accounting for %.2f'% percentage_scc, '% of the nodes')\n",
    "        scc_G = G.subgraph(smallest_comp)\n",
    "        print(\"The diameter of the smallest connected component is\", nx.diameter(scc_G))\n",
    "        print(\"The avg shortest path length of the smallest connected component is\", nx.average_shortest_path_length(scc_G))\n",
    "        \n",
    "    print(\"Sparsity: %.4f\" %nx.density(G))  # #edges/#edges-complete-graph\n",
    "    # #closed-triplets(3*#triangles)/#all-triplets\n",
    "    print(\"Global clustering coefficient aka Transitivity: %.4f\" %nx.transitivity(G))"
   ]
  },
  {
   "cell_type": "code",
   "execution_count": 7,
   "metadata": {},
   "outputs": [],
   "source": [
    "graph = nx.from_numpy_array(adjacency_matrix[:1000,:1000])"
   ]
  },
  {
   "cell_type": "code",
   "execution_count": 10,
   "metadata": {},
   "outputs": [],
   "source": [
    "# Add node attributes.\n",
    "nx.set_node_attributes(graph, data_recipe['title'].to_dict(), 'title')\n",
    "nx.set_node_attributes(graph, data_recipe['protein'].to_dict(), 'protein')\n",
    "nx.set_node_attributes(graph, data_recipe['fat'].to_dict(), 'fat')\n",
    "nx.set_node_attributes(graph, data_recipe['sodium'].to_dict(), 'sodium')\n",
    "nx.set_node_attributes(graph, data_recipe['calories'].to_dict(), 'calories')\n",
    "nx.set_node_attributes(graph, data_recipe['rating'].to_dict(), 'rating')\n",
    "nx.set_node_attributes(graph, data_recipe['ingredients'].to_dict(), 'ingredients')"
   ]
  },
  {
   "cell_type": "code",
   "execution_count": 8,
   "metadata": {},
   "outputs": [
    {
     "name": "stdout",
     "output_type": "stream",
     "text": [
      "Name: \n",
      "Type: Graph\n",
      "Number of nodes: 1000\n",
      "Number of edges: 9587\n",
      "Average degree:  19.1740\n",
      "Graph is not connected\n",
      "Diameter and Avg shortest path length are not defined!\n",
      "The graph contains 45 connected components\n",
      "The largest component has 955 nodes accounting for 95.50 % of the nodes\n",
      "The diameter of the largest connected component is 8\n",
      "The avg shortest path length of the largest connected component is 3.1557311732358655\n",
      "The smallest component has 1 nodes accounting for 0.10 % of the nodes\n",
      "The diameter of the smallest connected component is 0\n",
      "The avg shortest path length of the smallest connected component is 0\n",
      "Sparsity: 0.0192\n",
      "Global clustering coefficient aka Transitivity: 0.3244\n"
     ]
    }
   ],
   "source": [
    "describe_graph(graph)"
   ]
  },
  {
   "cell_type": "markdown",
   "metadata": {},
   "source": [
    "Most of the nodes are in the giant/largest component, which is often the case in a graph."
   ]
  },
  {
   "cell_type": "code",
   "execution_count": 15,
   "metadata": {},
   "outputs": [
    {
     "name": "stdout",
     "output_type": "stream",
     "text": [
      "Node 673 which is Spicy Shrimp and Bell Pepper Stew with Cumin and Oregano  has common ingredients with 110 recipes: ['onion', 'bell', 'wine', 'water', 'parsley', 'shrimp', 'juice', 'ground', 'pepper', 'strip', 'tomato', 'paste', 'bay', 'oil', 'leaf'] \n",
      "\n",
      "Node 393 which is Marsala and Dried-Fig Crostata  has common ingredients with 103 recipes: ['sugar', 'water', 'cream', 'cinnamon', 'vanilla', 'ground', 'butter', 'fig', 'seed', 'brown', 'egg', 'ice'] \n",
      "\n",
      "Node 4 which is Wilted Red Cabbage with Balsamic Vinegar  has common ingredients with 102 recipes: ['sugar', 'water', 'onion', 'vinegar', 'ground', 'pepper', 'cabbage', 'oil'] \n",
      "\n",
      "Node 943 which is Apple Walnut Upside-Down Cake with Calvados Caramel Sauce  has common ingredients with 102 recipes: ['sugar', 'apple', 'water', 'cream', 'cinnamon', 'extract', 'vanilla', 'powder', 'butter', 'ginger', 'walnut', 'egg'] \n",
      "\n",
      "Node 732 which is Apricot-Sour Cream Scones  has common ingredients with 101 recipes: ['sugar', 'soda', 'cream', 'vanilla', 'butter', 'glaze', 'apricot', 'powder', 'brown', 'egg', 'piece'] \n",
      "\n"
     ]
    }
   ],
   "source": [
    "# Which nodes/recipes contain the most common ingredients.\n",
    "degrees = dict(graph.degree(graph.nodes()))\n",
    "sorted_degree = sorted(degrees.items(), key=itemgetter(1), reverse=True)\n",
    "\n",
    "# The top 5 most connected nodes/recipes.\n",
    "for recipe, degree in sorted_degree[:5]:\n",
    "    print('Node', recipe, 'which is', graph.node[recipe]['title'], 'has common ingredients with', degree, 'recipes:', graph.node[recipe]['ingredients'], '\\n')"
   ]
  },
  {
   "cell_type": "markdown",
   "metadata": {},
   "source": [
    "We can see that that the recipes which contain the most common ingredients are:\n",
    "- Spicy Shrimp and Bell Pepper Stew with Cumin and Oregano\n",
    "- Marsala and Dried-Fig Crostata\n",
    "- Wilted Red Cabbage with Balsamic Vinegar\n",
    "- Apple Walnut Upside-Down Cake with Calvados Caramel Sauce\n",
    "- Apricot-Sour Cream Scones\n",
    "\n",
    "By looking at their ingredients one can conclude that among the most common ingredients we can name:\n",
    "- egg\n",
    "- water\n",
    "- sugar\n",
    "- butter\n",
    "- cream\n",
    "\n",
    "We can see that the most connected recipe nodes are from different categories. 3 are desserts and the other 2 are proper main dishes. This is reasonable, however, as the ingredients we mentioned above tend to be used in most types of recipes and across different categories. Hence, because these recipe nodes each has a subset of them, they ended up being hubs.\n"
   ]
  },
  {
   "cell_type": "code",
   "execution_count": 18,
   "metadata": {},
   "outputs": [],
   "source": [
    "# Helper function for plotting the degree distribution of a Graph.\n",
    "def plot_degree_distribution(G):\n",
    "    degrees = {}\n",
    "    for node in G.nodes():\n",
    "        degree = G.degree(node)\n",
    "        if degree not in degrees:\n",
    "            degrees[degree] = 0\n",
    "        degrees[degree] += 1\n",
    "    sorted_degree = sorted(degrees.items())\n",
    "    deg = [k for (k,v) in sorted_degree]\n",
    "    cnt = [v for (k,v) in sorted_degree]\n",
    "    fig, ax = plt.subplots(figsize=(28,10))\n",
    "    plt.bar(deg, cnt, width=0.80, color='b')\n",
    "    plt.title(\"Degree Distribution\")\n",
    "    plt.ylabel(\"Frequency\")\n",
    "    plt.xlabel(\"Degree\")\n",
    "    ax.set_xticks([d+0.05 for d in deg])\n",
    "    ax.set_xticklabels(deg)"
   ]
  },
  {
   "cell_type": "code",
   "execution_count": 19,
   "metadata": {},
   "outputs": [
    {
     "data": {
      "image/png": "[encoded data removed]",
      "text/plain": [
       "<Figure size 2016x720 with 1 Axes>"
      ]
     },
     "metadata": {
      "needs_background": "light"
     },
     "output_type": "display_data"
    }
   ],
   "source": [
    "plot_degree_distribution(graph)"
   ]
  },
  {
   "cell_type": "markdown",
   "metadata": {},
   "source": [
    "The degree distribution of the network seems to follow a power law. This means that most recipes are connected to fe othe recipes (have common ingredients), but there are a small number of \"hub\", i.e. recipes which are connected to many other recipes because contain a large number of the most basic, common ingredients across different types of cuisines."
   ]
  },
  {
   "cell_type": "code",
   "execution_count": 20,
   "metadata": {},
   "outputs": [
    {
     "data": {
      "text/plain": [
       "-0.0022599951625912203"
      ]
     },
     "execution_count": 20,
     "metadata": {},
     "output_type": "execute_result"
    }
   ],
   "source": [
    "nx.attribute_assortativity_coefficient(graph, 'calories')"
   ]
  },
  {
   "cell_type": "code",
   "execution_count": 21,
   "metadata": {},
   "outputs": [
    {
     "data": {
      "text/plain": [
       "0.017998523407026023"
      ]
     },
     "execution_count": 21,
     "metadata": {},
     "output_type": "execute_result"
    }
   ],
   "source": [
    "nx.attribute_assortativity_coefficient(graph, 'protein')"
   ]
  },
  {
   "cell_type": "code",
   "execution_count": 22,
   "metadata": {},
   "outputs": [
    {
     "data": {
      "text/plain": [
       "0.01047536412191416"
      ]
     },
     "execution_count": 22,
     "metadata": {},
     "output_type": "execute_result"
    }
   ],
   "source": [
    "nx.attribute_assortativity_coefficient(graph, 'fat')"
   ]
  },
  {
   "cell_type": "code",
   "execution_count": 23,
   "metadata": {},
   "outputs": [
    {
     "data": {
      "text/plain": [
       "-0.0007091516775854209"
      ]
     },
     "execution_count": 23,
     "metadata": {},
     "output_type": "execute_result"
    }
   ],
   "source": [
    "nx.attribute_assortativity_coefficient(graph, 'sodium')"
   ]
  },
  {
   "cell_type": "code",
   "execution_count": 24,
   "metadata": {},
   "outputs": [
    {
     "data": {
      "text/plain": [
       "0.008644577338864"
      ]
     },
     "execution_count": 24,
     "metadata": {},
     "output_type": "execute_result"
    }
   ],
   "source": [
    "nx.attribute_assortativity_coefficient(graph, 'rating')"
   ]
  },
  {
   "cell_type": "code",
   "execution_count": 75,
   "metadata": {},
   "outputs": [
    {
     "data": {
      "text/plain": [
       "-0.0020510465693881113"
      ]
     },
     "execution_count": 75,
     "metadata": {},
     "output_type": "execute_result"
    }
   ],
   "source": [
    "nx.attribute_assortativity_coefficient(graph, 'title')"
   ]
  }
 ],
 "metadata": {
  "kernelspec": {
   "display_name": "Python 3",
   "language": "python",
   "name": "python3"
  },
  "language_info": {
   "codemirror_mode": {
    "name": "ipython",
    "version": 3
   },
   "file_extension": ".py",
   "mimetype": "text/x-python",
   "name": "python",
   "nbconvert_exporter": "python",
   "pygments_lexer": "ipython3",
   "version": "3.7.3"
  }
 },
 "nbformat": 4,
 "nbformat_minor": 4
}
